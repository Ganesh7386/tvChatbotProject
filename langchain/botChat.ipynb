{
 "cells": [
  {
   "cell_type": "code",
   "execution_count": null,
   "metadata": {},
   "outputs": [
    {
     "ename": "",
     "evalue": "",
     "output_type": "error",
     "traceback": [
      "\u001b[1;31mRunning cells with '.venv (Python 3.12.3)' requires the ipykernel package.\n",
      "\u001b[1;31mRun the following command to install 'ipykernel' into the Python environment. \n",
      "\u001b[1;31mCommand: 'c:/Users/Ganesh/OneDrive/Desktop/hackPro/.venv/Scripts/python.exe -m pip install ipykernel -U --force-reinstall'"
     ]
    }
   ],
   "source": [
    "from fastapi import FastAPI\n",
    "from langchain.prompts import ChatPromptTemplate\n",
    "from langchain.chat_models import ChatOpenAI\n",
    "from langserve import add_routes\n",
    "import uvicorn\n",
    "import os\n",
    "\n",
    "os.environ['OPENAI_API_KEY'] = os.getenv(\"OPENAI_API_KEY\")\n",
    "\n",
    "app = FastAPI(\n",
    "    title = \"Langchain server\",\n",
    "    version = \"1.0\",\n",
    "    description = \"A simple API server\"\n",
    ")\n",
    "\n",
    "llm = OpenAI(api_key=openai_api_key, model=\"gpt-3.5-turbo\", temperature=0)\n",
    "db = SQLDatabase.from_uri('sqlite:///YourDatabase.db')\n",
    "chain = create_sql_query_chain(llm, db)\n",
    "\n",
    "prompt = ChatPromptTemplate.from_template(\"give me data related to customer with customer_id as {customer_id}\")\n",
    "\n",
    "\n",
    "add_routes(\n",
    "    app,\n",
    "    prompt|chain,\n",
    "    path=\"/ask\"\n",
    ")\n",
    "\n",
    "if __name__ == \"__main__\":\n",
    "    uvicorn.run(app,host=\"localhost\",port= 8000)\n",
    "\n",
    "\n",
    "\n",
    "\n",
    "\n"
   ]
  },
  {
   "cell_type": "code",
   "execution_count": null,
   "metadata": {},
   "outputs": [],
   "source": []
  }
 ],
 "metadata": {
  "kernelspec": {
   "display_name": ".venv",
   "language": "python",
   "name": "python3"
  },
  "language_info": {
   "name": "python",
   "version": "3.12.3"
  }
 },
 "nbformat": 4,
 "nbformat_minor": 2
}
